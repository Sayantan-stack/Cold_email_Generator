{
 "cells": [
  {
   "cell_type": "code",
   "execution_count": 2,
   "id": "57b06ab9-8b69-4655-b9d5-416c7f8800e2",
   "metadata": {},
   "outputs": [
    {
     "name": "stdout",
     "output_type": "stream",
     "text": [
      "That's an easy one!\n",
      "\n",
      "The first person to land on the moon was Neil Armstrong. He stepped out of the lunar module Eagle onto the moon's surface on July 20, 1969, during the Apollo 11 mission. Armstrong famously declared, \"That's one small step for man, one giant leap for mankind,\" as he became the first human to set foot on the moon.\n"
     ]
    }
   ],
   "source": [
    "import os\n",
    "from langchain_groq import ChatGroq\n",
    "\n",
    "\n",
    "os.environ[\"GROQ_API_KEY\"] = \"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\"\n",
    "\n",
    "# Now initialize the ChatGroq model with correct parameters\n",
    "llm = ChatGroq(\n",
    "    temperature=0,\n",
    "    model_name=\"llama3-70b-8192\"  # or \"llama3-8b-8192\", verify actual supported names\n",
    ")\n",
    "\n",
    "# Invoke the model\n",
    "response = llm.invoke(\"The first person to land on moon was ...\")\n",
    "\n",
    "# Print the response\n",
    "print(response.content)\n"
   ]
  },
  {
   "cell_type": "code",
   "execution_count": null,
   "id": "ca3a3bdf-8ce3-4ce6-a928-d4d69f0aae7b",
   "metadata": {},
   "outputs": [],
   "source": []
  }
 ],
 "metadata": {
  "kernelspec": {
   "display_name": "Python 3 (ipykernel)",
   "language": "python",
   "name": "python3"
  },
  "language_info": {
   "codemirror_mode": {
    "name": "ipython",
    "version": 3
   },
   "file_extension": ".py",
   "mimetype": "text/x-python",
   "name": "python",
   "nbconvert_exporter": "python",
   "pygments_lexer": "ipython3",
   "version": "3.12.7"
  }
 },
 "nbformat": 4,
 "nbformat_minor": 5
}
